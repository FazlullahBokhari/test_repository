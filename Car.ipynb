{
 "cells": [
  {
   "cell_type": "code",
   "execution_count": 6,
   "id": "12bb80a8",
   "metadata": {},
   "outputs": [],
   "source": [
    "class Car:\n",
    "    def __init__(self,model,fuel_type,price):\n",
    "        self.a = model\n",
    "        self.b = fuel_type\n",
    "        self.c = price\n",
    "    def getInfo(self):\n",
    "        print(self.a,self.b,self.c)"
   ]
  },
  {
   "cell_type": "code",
   "execution_count": 7,
   "id": "b0cd4a4c",
   "metadata": {},
   "outputs": [],
   "source": [
    "c = Car(\"SUV\",\"petrol\",120000)"
   ]
  },
  {
   "cell_type": "code",
   "execution_count": 8,
   "id": "32de3f25",
   "metadata": {},
   "outputs": [
    {
     "name": "stdout",
     "output_type": "stream",
     "text": [
      "SUV petrol 120000\n"
     ]
    }
   ],
   "source": [
    "c.getInfo()"
   ]
  },
  {
   "cell_type": "code",
   "execution_count": null,
   "id": "c2b75c95",
   "metadata": {},
   "outputs": [],
   "source": []
  }
 ],
 "metadata": {
  "kernelspec": {
   "display_name": "Python 3",
   "language": "python",
   "name": "python3"
  },
  "language_info": {
   "codemirror_mode": {
    "name": "ipython",
    "version": 3
   },
   "file_extension": ".py",
   "mimetype": "text/x-python",
   "name": "python",
   "nbconvert_exporter": "python",
   "pygments_lexer": "ipython3",
   "version": "3.8.8"
  }
 },
 "nbformat": 4,
 "nbformat_minor": 5
}
